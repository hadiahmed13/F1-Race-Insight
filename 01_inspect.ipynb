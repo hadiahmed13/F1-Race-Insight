{
 "cells": [
  {
   "cell_type": "code",
   "execution_count": null,
   "metadata": {},
   "outputs": [],
   "source": [
    "import pandas as pd, numpy as np\n",
    "\n",
    "df = pd.read_parquet(\"raw_laps.parquet\")\n",
    "\n",
    "# --- basic shape ---\n",
    "print(\"Rows:\", len(df), \"  Cols:\", df.shape[1])\n",
    "print(df.head(3))\n",
    "\n",
    "# --- quick null overview ---\n",
    "null_pct = df.isna().mean().sort_values(ascending=False)\n",
    "print(\"\\nTop 10 columns with most nulls:\")\n",
    "print(null_pct.head(10).apply(lambda x: f\"{x:.1%}\"))\n",
    "\n",
    "# --- rows per season ---\n",
    "print(\"\\nLaps per season\")\n",
    "print(df.groupby(\"Season\").size())\n",
    "\n",
    "# --- rows per event ---\n",
    "print(\"\\nEvents captured:\")\n",
    "print(\n",
    "    df.groupby([\"Season\", \"EventName\"])\n",
    "      .size()\n",
    "      .reset_index(name=\"laps\")\n",
    "      .sort_values([\"Season\", \"EventName\"])\n",
    "      .head(20)        # print first 20 for brevity\n",
    ")\n",
    "\n",
    "# --- check SC distribution ---\n",
    "print(\"\\nSafety-Car flag distribution:\")\n",
    "print(df[\"SC\"].value_counts(normalize=True).map(\"{:.2%}\".format))\n"
   ]
  }
 ],
 "metadata": {
  "language_info": {
   "name": "python"
  }
 },
 "nbformat": 4,
 "nbformat_minor": 2
}
